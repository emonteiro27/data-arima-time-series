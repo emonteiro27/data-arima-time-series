{
 "cells": [
  {
   "cell_type": "code",
   "execution_count": 1,
   "id": "ee498a36",
   "metadata": {},
   "outputs": [],
   "source": [
    "import pandas as pd\n",
    "import numpy as np\n",
    "import matplotlib.pyplot as plt\n",
    "import seaborn as sns"
   ]
  },
  {
   "cell_type": "markdown",
   "id": "a82e0421",
   "metadata": {},
   "source": [
    "# ARIMA models"
   ]
  },
  {
   "cell_type": "markdown",
   "id": "dc6fb51b",
   "metadata": {},
   "source": [
    "__ARIMA__ models are used to forecast a time series using the series past values."
   ]
  },
  {
   "cell_type": "markdown",
   "id": "3a966eef",
   "metadata": {},
   "source": [
    "__Forescasting a time series can be broadly divided into two types__:\n",
    "- if we use only the previous values of the time series to predict its future values, it is called __Univariate Time Series Forecasting__;\n",
    "\n",
    "\n",
    "- if we use predictors other than the series (like exogenous variables) to forecast it is called __Multi Variate Time Series Forecasting__;"
   ]
  },
  {
   "cell_type": "markdown",
   "id": "ea075e32",
   "metadata": {},
   "source": [
    "__ARIMA__ stands for __Autoregressive Integrated Moving Average__ model. It belongs to a class of models that explains a given time series based on its own past values -i.e.- its own lags and the lagged forecast errors. The equation can be used to forecast future values. Any 'non-seasonal' time series that exhibits patterns and is not a random white noise can be modeled with ARIMA models. \n",
    "\n",
    "\n",
    "So, __ARIMA__ is a forecasting algorithm based on the idea that the information in the past values of the time series can alone be used to predict the future values.\n",
    "\n",
    "\n",
    "__ARIMA Models__ are specified by three order parameters (p, d, q):\n",
    "- p is the order of the __AR__ term;\n",
    "\n",
    "\n",
    "- q is the order of the __MA__ term;\n",
    "\n",
    "\n",
    "- d is the number of differencing required to make the time series stationary;\n",
    "\n",
    "\n",
    "__AR(p) Autoregression__ - a regression model that utilizes the dependent relationship between a current observation and observations over a previous period. An auto regressive (AR(p)) component refers to the use of past values in the regression equation for the time series.\n",
    "\n",
    "\n",
    "__I(d) Integration__ - uses differencing of observations (subtracting an observation from an observation at the previous time step) in order to make the time series stationary. Differencing involves the subtraction of the current values of a series with its previous values d number of times.\n",
    "\n",
    "\n",
    "__MA(q) Moving Average__ - a model that uses the dependency between an observation and a residual error from a moving average model applied to lagged observations. A moving average component depicts the error of the model as a combination of previous error terms. The order q represents the number of terms to be included in the model"
   ]
  },
  {
   "cell_type": "markdown",
   "id": "2eeec8e9",
   "metadata": {},
   "source": [
    "## Types of ARIMA models"
   ]
  },
  {
   "cell_type": "markdown",
   "id": "87f40b82",
   "metadata": {},
   "source": [
    "- __ARIMA__: Non-seasonal Autoregressive Integrated Moving Averages;\n",
    "\n",
    "\n",
    "- __SARIMA__: Seasonal ARIMA\n",
    "\n",
    "\n",
    "- __SARIMAX__: Seasonal ARIMA with exogenous variables"
   ]
  },
  {
   "cell_type": "markdown",
   "id": "227e7493",
   "metadata": {},
   "source": [
    "If a time series has seasonal patterns then we need to add seasonal terms and it becomes __SARIMA__"
   ]
  },
  {
   "cell_type": "markdown",
   "id": "d8d9ee46",
   "metadata": {},
   "source": [
    "## The meaning of p, d and q in ARIMA model"
   ]
  },
  {
   "cell_type": "markdown",
   "id": "197a66e2",
   "metadata": {},
   "source": [
    "### The meaning of p"
   ]
  },
  {
   "cell_type": "markdown",
   "id": "8e3bcb60",
   "metadata": {},
   "source": [
    "__p__ is the order of the __Auto Regressive (AR)__ term. It refers to the number of lags of Y to be used as predictors."
   ]
  },
  {
   "cell_type": "markdown",
   "id": "0b919fea",
   "metadata": {},
   "source": [
    "### The meaning of d"
   ]
  },
  {
   "cell_type": "markdown",
   "id": "bc0d6f0d",
   "metadata": {},
   "source": [
    "- the term __Auto Regressive__ in ARIMA means it is a linear regression model that uses its own lags as predictors. Linear regression models work best when the predictors are not correlated and are independent of each other. So we need to make the time series stationary.\n",
    "\n",
    "\n",
    "- the most common approach to make the series stationary is to difference it. That is, subtract the previous value from the current one. Sometimes, depending on the complexity of the series, more than one differencing may be needed.\n",
    "\n",
    "\n",
    "- therefore, the value of __d__ is the minimum number of differencing needed to make the series stationary. If the time series is already stationary, then d = 0."
   ]
  },
  {
   "cell_type": "markdown",
   "id": "faa9d650",
   "metadata": {},
   "source": [
    "### The meaning of q"
   ]
  },
  {
   "cell_type": "markdown",
   "id": "aa5177b2",
   "metadata": {},
   "source": [
    "__q__ is the order of the __Moving Average (MA)__ term. It refers to the number of laged forecast errors that should o into the ARIMA model."
   ]
  },
  {
   "cell_type": "markdown",
   "id": "dbb83981",
   "metadata": {},
   "source": [
    "# AR and MA models"
   ]
  },
  {
   "cell_type": "markdown",
   "id": "2398fcda",
   "metadata": {},
   "source": [
    "## AR model"
   ]
  },
  {
   "cell_type": "markdown",
   "id": "1fde83b7",
   "metadata": {},
   "source": [
    "- An __Auto Regressive (AR)__ model is one where Y_t depends only on its own lags.\n",
    "\n",
    "\n",
    "- that is, Y_t is a function of the lags of Y_t. It is depicted by the following equation:\n",
    "\n",
    "\n",
    "        Y_t = alpha + beta1 x Y_t-1 + beta2 x Y_t-2 + ... + betap x Y_t-p + epsilon1\n",
    "        \n",
    "        \n",
    "where:\n",
    "\n",
    "- Y_t-1 is the lag1 of the series,\n",
    "\n",
    "\n",
    "- beta1 is the coefficient of lag1 that the model estimates, and\n",
    "\n",
    "\n",
    "- alpha is the intercept term, also estimated by the model."
   ]
  },
  {
   "cell_type": "markdown",
   "id": "8b525c70",
   "metadata": {},
   "source": [
    "## MA model"
   ]
  },
  {
   "cell_type": "markdown",
   "id": "a620fe4c",
   "metadata": {},
   "source": [
    "- a __Moving Average (MA)__ model is one where Y_t depends only on the lagged forecast errors. It is depicted by the following equation:\n",
    "\n",
    "\n",
    "        Y_t = alpha + epsilon_t + teta1 x epsilon_t-1 + teta2 x epsilon_t-2 + ... + tetaq x epsilon_t-q\n",
    "        \n",
    "        \n",
    "where the error terms are the errors of the autoregressive models of the respective lags.\n",
    "\n",
    "\n",
    "The errors epsilon_t and epsilon_t-1 are the errors from the following equations:\n",
    "\n",
    "\n",
    "        Y_t = beta1 x Y_t-1 + beta2 x Y_t-2 + ... + beta0 x Y0 + epsilon_t\n",
    "        \n",
    "        \n",
    "        Y_t-1 = beta1 x Y_t-2 + beta2 x Y_t-3 + ... + beta0 x Y0 + epsilon_t-1"
   ]
  },
  {
   "cell_type": "markdown",
   "id": "8007fb86",
   "metadata": {},
   "source": [
    "## ARIMA model"
   ]
  },
  {
   "cell_type": "markdown",
   "id": "c3281a72",
   "metadata": {},
   "source": [
    "- an ARIMA model is one where the time series was differenced at least once to make it stationary and we combine the AR and the MA terms. So the equation of an ARIMA model becomes:\n",
    "\n",
    "        \n",
    "        Y_t = alpha + beta1 x Y_t-1 + beta2 x Y_t-2 + ... + betap x Y_t-p x epsilon_t + teta1 x epsilon_t-1 + teta2 x epsilon_t-2 + ...+ tetaq x epsilon_t-q\n",
    "        \n",
    "        \n",
    "__ARIMA__ model in words:\n",
    "- Predicted Y_t = Constant + Linear combination Lags of Y (upto p lagas) + Linear Combination of Lagged forecast errors (upto q lags)"
   ]
  },
  {
   "cell_type": "markdown",
   "id": "34ea4e16",
   "metadata": {},
   "source": []
  }
 ],
 "metadata": {
  "kernelspec": {
   "display_name": "Python 3 (ipykernel)",
   "language": "python",
   "name": "python3"
  },
  "language_info": {
   "codemirror_mode": {
    "name": "ipython",
    "version": 3
   },
   "file_extension": ".py",
   "mimetype": "text/x-python",
   "name": "python",
   "nbconvert_exporter": "python",
   "pygments_lexer": "ipython3",
   "version": "3.10.6"
  },
  "toc": {
   "base_numbering": 1,
   "nav_menu": {},
   "number_sections": true,
   "sideBar": true,
   "skip_h1_title": false,
   "title_cell": "Table of Contents",
   "title_sidebar": "Contents",
   "toc_cell": false,
   "toc_position": {},
   "toc_section_display": true,
   "toc_window_display": false
  }
 },
 "nbformat": 4,
 "nbformat_minor": 5
}
