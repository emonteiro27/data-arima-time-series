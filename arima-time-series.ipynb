{
 "cells": [
  {
   "cell_type": "code",
   "execution_count": 1,
   "id": "010860c3",
   "metadata": {},
   "outputs": [],
   "source": [
    "import pandas as pd\n",
    "import numpy as np\n",
    "import matplotlib.pyplot as plt\n",
    "import seaborn as sns"
   ]
  },
  {
   "cell_type": "markdown",
   "id": "f7aa9662",
   "metadata": {},
   "source": [
    "# ARIMA models"
   ]
  },
  {
   "cell_type": "markdown",
   "id": "9127cf90",
   "metadata": {},
   "source": [
    "__ARIMA__ models are used to forecast a time series using the series past values."
   ]
  },
  {
   "cell_type": "markdown",
   "id": "23476eff",
   "metadata": {},
   "source": [
    "__Forescasting a time series can be broadly divided into two types__:\n",
    "- if we use only the previous values of the time series to predict its future values, it is called __Univariate Time Series Forecasting__;\n",
    "\n",
    "\n",
    "- if we use predictors other than the series (like exogenous variables) to forecast it is called __Multi Variate Time Series Forecasting__;"
   ]
  },
  {
   "cell_type": "markdown",
   "id": "1dbe4710",
   "metadata": {},
   "source": [
    "__ARIMA__ stands for __Autoregressive Integrated Moving Average__ model. It belongs to a class of models that explains a given time series based on its own past values -i.e.- its own lags and the lagged forecast errors. The equation can be used to forecast future values. Any 'non-seasonal' time series that exhibits patterns and is not a random white noise can be modeled with ARIMA models. \n",
    "\n",
    "\n",
    "So, __ARIMA__ is a forecasting algorithm based on the idea that the information in the past values of the time series can alone be used to predict the future values.\n",
    "\n",
    "\n",
    "__ARIMA Models__ are specified by three order parameters (p, d, q):\n",
    "- p is the order of the __AR__ term;\n",
    "\n",
    "\n",
    "- q is the order of the __MA__ term;\n",
    "\n",
    "\n",
    "- d is the number of differencing required to make the time series stationary;\n",
    "\n",
    "\n",
    "__AR(p) Autoregression__ - a regression model that utilizes the dependent relationship between a current observation and observations over a previous period. An auto regressive (AR(p)) component refers to the use of past values in the regression equation for the time series.\n",
    "\n",
    "\n",
    "__I(d) Integration__ - uses differencing of observations (subtracting an observation from an observation at the previous time step) in order to make the time series stationary. Differencing involves the subtraction of the current values of a series with its previous values d number of times.\n",
    "\n",
    "\n",
    "__MA(q) Moving Average__ - a model that uses the dependency between an observation and a residual error from a moving average model applied to lagged observations. A moving average component depicts the error of the model as a combination of previous error terms. The order q represents the number of terms to be included in the model"
   ]
  },
  {
   "cell_type": "markdown",
   "id": "c4571aff",
   "metadata": {},
   "source": [
    "## Types of ARIMA models"
   ]
  },
  {
   "cell_type": "markdown",
   "id": "5520ce17",
   "metadata": {},
   "source": [
    "- __ARIMA__: Non-seasonal Autoregressive Integrated Moving Averages;\n",
    "\n",
    "\n",
    "- __SARIMA__: Seasonal ARIMA\n",
    "\n",
    "\n",
    "- __SARIMAX__: Seasonal ARIMA with exogenous variables"
   ]
  },
  {
   "cell_type": "markdown",
   "id": "9829d23a",
   "metadata": {},
   "source": [
    "If a time series has seasonal patterns then we need to add seasonal terms and it becomes __SARIMA__"
   ]
  },
  {
   "cell_type": "markdown",
   "id": "2906c41a",
   "metadata": {},
   "source": [
    "## The meaning of p, d and q in ARIMA model"
   ]
  },
  {
   "cell_type": "markdown",
   "id": "cc4aa31b",
   "metadata": {},
   "source": [
    "### The meaning of p"
   ]
  },
  {
   "cell_type": "markdown",
   "id": "c929883a",
   "metadata": {},
   "source": [
    "__p__ is the order of the __Auto Regressive (AR)__ term. It refers to the number of lags of Y to be used as predictors."
   ]
  },
  {
   "cell_type": "markdown",
   "id": "ec6c578a",
   "metadata": {},
   "source": [
    "### The meaning of d"
   ]
  },
  {
   "cell_type": "markdown",
   "id": "7026116a",
   "metadata": {},
   "source": [
    "- the term __Auto Regressive__ in ARIMA means it is a linear regression model that uses its own lags as predictors. Linear regression models work best when the predictors are not correlated and are independent of each other. So we need to make the time series stationary.\n",
    "\n",
    "\n",
    "- the most common approach to make the series stationary is to difference it. That is, subtract the previous value from the current one. Sometimes, depending on the complexity of the series, more than one differencing may be needed.\n",
    "\n",
    "\n",
    "- therefore, the value of __d__ is the minimum number of differencing needed to make the series stationary. If the time series is already stationary, then d = 0."
   ]
  },
  {
   "cell_type": "markdown",
   "id": "be612ffd",
   "metadata": {},
   "source": [
    "### The meaning of q"
   ]
  },
  {
   "cell_type": "markdown",
   "id": "4bde8569",
   "metadata": {},
   "source": [
    "__q__ is the order of the __Moving Average (MA)__ term. It refers to the number of laged forecast errors that should o into the ARIMA model."
   ]
  },
  {
   "cell_type": "markdown",
   "id": "9147c08d",
   "metadata": {},
   "source": [
    "# AR and MA models"
   ]
  },
  {
   "cell_type": "markdown",
   "id": "ca623921",
   "metadata": {},
   "source": [
    "## AR model"
   ]
  },
  {
   "cell_type": "markdown",
   "id": "b01fe4d7",
   "metadata": {},
   "source": [
    "- An __Auto Regressive (AR)__ model is one where Y_t depends only on its own lags.\n",
    "\n",
    "\n",
    "- that is, Y_t is a function of the lags of Y_t. It is depicted by the following equation:\n",
    "\n",
    "\n",
    "        Y_t = alpha + beta1 x Y_t-1 + beta2 x Y_t-2 + ... + betap x Y_t-p + epsilon1\n",
    "        \n",
    "        \n",
    "where:\n",
    "\n",
    "- Y_t-1 is the lag1 of the series,\n",
    "\n",
    "\n",
    "- beta1 is the coefficient of lag1 that the model estimates, and\n",
    "\n",
    "\n",
    "- alpha is the intercept term, also estimated by the model."
   ]
  },
  {
   "cell_type": "markdown",
   "id": "1a1af737",
   "metadata": {},
   "source": [
    "## MA model"
   ]
  },
  {
   "cell_type": "markdown",
   "id": "aa2385d8",
   "metadata": {},
   "source": [
    "- a __Moving Average (MA)__ model is one where Y_t depends only on the lagged forecast errors. It is depicted by the following equation:\n",
    "\n",
    "\n",
    "        Y_t = alpha + epsilon_t + teta1 x epsilon_t-1 + teta2 x epsilon_t-2 + ... + tetaq x epsilon_t-q\n",
    "        \n",
    "        \n",
    "where the error terms are the errors of the autoregressive models of the respective lags.\n",
    "\n",
    "\n",
    "The errors epsilon_t and epsilon_t-1 are the errors from the following equations:\n",
    "\n",
    "\n",
    "        Y_t = beta1 x Y_t-1 + beta2 x Y_t-2 + ... + beta0 x Y0 + epsilon_t\n",
    "        \n",
    "        \n",
    "        Y_t-1 = beta1 x Y_t-2 + beta2 x Y_t-3 + ... + beta0 x Y0 + epsilon_t-1"
   ]
  },
  {
   "cell_type": "markdown",
   "id": "6bed5aa4",
   "metadata": {},
   "source": [
    "## ARIMA model"
   ]
  },
  {
   "cell_type": "markdown",
   "id": "a3597fe3",
   "metadata": {},
   "source": [
    "- an ARIMA model is one where the time series was differenced at least once to make it stationary and we combine the AR and the MA terms. So the equation of an ARIMA model becomes:\n",
    "\n",
    "        \n",
    "        Y_t = alpha + beta1 x Y_t-1 + beta2 x Y_t-2 + ... + betap x Y_t-p x epsilon_t + teta1 x epsilon_t-1 + teta2 x epsilon_t-2 + ...+ tetaq x epsilon_t-q\n",
    "        \n",
    "        \n",
    "__ARIMA__ model in words:\n",
    "- Predicted Y_t = Constant + Linear combination Lags of Y (upto p lagas) + Linear Combination of Lagged forecast errors (upto q lags)"
   ]
  },
  {
   "cell_type": "markdown",
   "id": "f6c10b47",
   "metadata": {},
   "source": [
    "## How to find the order of differencing (d) in ARIMA model"
   ]
  },
  {
   "cell_type": "markdown",
   "id": "508097be",
   "metadata": {},
   "source": [
    "- the purpose of differencing is to make the time series stationary. But we should be careful not to over-difference the series. An over differenced series may still be stationary, which in turn will affect the model parameters.\n",
    "\n",
    "\n",
    "- we should determine the right order of differencing. The right order of differencing is the minimum differencing required to get a near-stationary series which roams around a defined mean and the ACF plot reaches to zero fairly quick. \n",
    "\n",
    "\n",
    "- if the autocorrelations are positive for many number of lags (10 or more), then the series needs further differencing. On the other hand, if the lag 1 autocorrelation itself is too negative, then the series is probably over-differenced. \n",
    "\n",
    "\n",
    "- if we can't really decide between two orders of differencing, then we go with the order that gives the least standard deviation in the differenced series."
   ]
  },
  {
   "cell_type": "markdown",
   "id": "30c7c71f",
   "metadata": {},
   "source": [
    "## Next steps"
   ]
  },
  {
   "cell_type": "markdown",
   "id": "00d10eea",
   "metadata": {},
   "source": [
    "- first, we'll check if the series is stationary using the __Augmented Dickey Fuller test (ADF Test)__, from the statsmodels package. The reason being is that we need differencing only if the series is non-stationary. Else, no differencing is needed (d=0).\n",
    "\n",
    "\n",
    "- The null hypothesis (Ho) of the ADF test is that the time series is non-stationary. So, if the p-value of the test is lass than the significance level of 0.05 then we reject the null hypothesis and infer that the time series is indeed stationary.\n",
    "\n",
    "\n",
    "- If the p-value > 0.05 we go ahead with finding the order of differencing."
   ]
  },
  {
   "cell_type": "markdown",
   "id": "e1afa795",
   "metadata": {},
   "source": [
    "# import data"
   ]
  },
  {
   "cell_type": "code",
   "execution_count": 2,
   "id": "580d8bea",
   "metadata": {},
   "outputs": [
    {
     "data": {
      "text/html": [
       "<div>\n",
       "<style scoped>\n",
       "    .dataframe tbody tr th:only-of-type {\n",
       "        vertical-align: middle;\n",
       "    }\n",
       "\n",
       "    .dataframe tbody tr th {\n",
       "        vertical-align: top;\n",
       "    }\n",
       "\n",
       "    .dataframe thead th {\n",
       "        text-align: right;\n",
       "    }\n",
       "</style>\n",
       "<table border=\"1\" class=\"dataframe\">\n",
       "  <thead>\n",
       "    <tr style=\"text-align: right;\">\n",
       "      <th></th>\n",
       "      <th>date</th>\n",
       "      <th>value</th>\n",
       "    </tr>\n",
       "  </thead>\n",
       "  <tbody>\n",
       "    <tr>\n",
       "      <th>0</th>\n",
       "      <td>1991-07-01</td>\n",
       "      <td>3.526591</td>\n",
       "    </tr>\n",
       "    <tr>\n",
       "      <th>1</th>\n",
       "      <td>1991-08-01</td>\n",
       "      <td>3.180891</td>\n",
       "    </tr>\n",
       "    <tr>\n",
       "      <th>2</th>\n",
       "      <td>1991-09-01</td>\n",
       "      <td>3.252221</td>\n",
       "    </tr>\n",
       "    <tr>\n",
       "      <th>3</th>\n",
       "      <td>1991-10-01</td>\n",
       "      <td>3.611003</td>\n",
       "    </tr>\n",
       "    <tr>\n",
       "      <th>4</th>\n",
       "      <td>1991-11-01</td>\n",
       "      <td>3.565869</td>\n",
       "    </tr>\n",
       "  </tbody>\n",
       "</table>\n",
       "</div>"
      ],
      "text/plain": [
       "         date     value\n",
       "0  1991-07-01  3.526591\n",
       "1  1991-08-01  3.180891\n",
       "2  1991-09-01  3.252221\n",
       "3  1991-10-01  3.611003\n",
       "4  1991-11-01  3.565869"
      ]
     },
     "execution_count": 2,
     "metadata": {},
     "output_type": "execute_result"
    }
   ],
   "source": [
    "df = pd.read_csv('./raw_data/dataset.txt')\n",
    "df.head()"
   ]
  },
  {
   "cell_type": "code",
   "execution_count": 3,
   "id": "02b3235e",
   "metadata": {},
   "outputs": [
    {
     "data": {
      "text/plain": [
       "date     0\n",
       "value    0\n",
       "dtype: int64"
      ]
     },
     "execution_count": 3,
     "metadata": {},
     "output_type": "execute_result"
    }
   ],
   "source": [
    "df.isna().sum()"
   ]
  },
  {
   "cell_type": "code",
   "execution_count": 5,
   "id": "d6c025c6",
   "metadata": {},
   "outputs": [
    {
     "name": "stdout",
     "output_type": "stream",
     "text": [
      "ADF Statistics: 3.14518568930673\n",
      "p-value: 1.0\n"
     ]
    }
   ],
   "source": [
    "from statsmodels.tsa.stattools import adfuller\n",
    "\n",
    "result = adfuller(df.value)\n",
    "print(f'ADF Statistics: {result[0]}')\n",
    "print(f'p-value: {result[1]}')"
   ]
  },
  {
   "cell_type": "markdown",
   "id": "763f0ac5",
   "metadata": {},
   "source": [
    "Since p-value is greater than the significance level (0.05), let's difference the series and see how the autocorrelation plot looks like."
   ]
  },
  {
   "cell_type": "code",
   "execution_count": null,
   "id": "2571bc35",
   "metadata": {},
   "outputs": [],
   "source": [
    "from statsmodels.graphics.tsaplots import plot_acf, plot_pacf\n",
    "\n",
    "plt.rcParams.update({'figure.figsize': (10,7), 'fiure.dpi'=100})\n",
    "\n",
    "\n",
    "# Original series\n",
    "fig, axes = plt.subplots(3, 2, sharex=True)\n",
    "axes[0, 0].plot(df.value)\n"
   ]
  }
 ],
 "metadata": {
  "kernelspec": {
   "display_name": "Python 3 (ipykernel)",
   "language": "python",
   "name": "python3"
  },
  "language_info": {
   "codemirror_mode": {
    "name": "ipython",
    "version": 3
   },
   "file_extension": ".py",
   "mimetype": "text/x-python",
   "name": "python",
   "nbconvert_exporter": "python",
   "pygments_lexer": "ipython3",
   "version": "3.10.6"
  },
  "toc": {
   "base_numbering": 1,
   "nav_menu": {},
   "number_sections": true,
   "sideBar": true,
   "skip_h1_title": false,
   "title_cell": "Table of Contents",
   "title_sidebar": "Contents",
   "toc_cell": false,
   "toc_position": {},
   "toc_section_display": true,
   "toc_window_display": false
  }
 },
 "nbformat": 4,
 "nbformat_minor": 5
}
