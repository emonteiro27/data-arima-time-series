{
 "cells": [
  {
   "cell_type": "code",
   "execution_count": 1,
   "id": "bf428ec5",
   "metadata": {},
   "outputs": [],
   "source": [
    "import pandas as pd\n",
    "import numpy as np\n",
    "import matplotlib.pyplot as plt\n",
    "import seaborn as sns"
   ]
  },
  {
   "cell_type": "markdown",
   "id": "2c8240a4",
   "metadata": {},
   "source": [
    "__ARIMA__ models are used to forecast a time series using the series past values."
   ]
  },
  {
   "cell_type": "markdown",
   "id": "ec360a03",
   "metadata": {},
   "source": [
    "__Forescasting a time series can be broadly divided into two types__:\n",
    "- if we use only the previous values of the time series to predict its future values, it is called __Univariate Time Series Forecasting__;\n",
    "\n",
    "\n",
    "- if we use predictors other than the series (like exogenous variables) to forecast it is called __Multi Variate Time Series Forecasting__;"
   ]
  },
  {
   "cell_type": "markdown",
   "id": "dce4ced8",
   "metadata": {},
   "source": [
    "__ARIMA__ stands for __Autoregressive Integrated Moving Average__ model. It belongs to a class of models that explains a given time series based on its own past values -i.e.- its own lags and the lagged forecast errors. The equation can be used to forecast future values. Any 'non-seasonal' time series that exhibits patterns and is not a random white noise can be modeled with ARIMA models. \n",
    "\n",
    "\n",
    "So, __ARIMA__ is a forecasting algorithm based on the idea that the information in the past values of the time series can alone be used to predict the future values.\n",
    "\n",
    "\n",
    "__ARIMA Models__ are specified by three order parameters (p, d, q):\n",
    "- p is the order of the __AR__ term;\n",
    "\n",
    "\n",
    "- q is the order of the __MA__ term;\n",
    "\n",
    "\n",
    "- d is the number of differencing required to make the time series stationary;\n",
    "\n",
    "\n",
    "__AR(p) Autoregression__ - a regression model that utilizes the dependent relationship between a current observation and observations over a previous period. An auto regressive (AR(p)) component refers to the use of past values in the regression equation for the time series.\n",
    "\n",
    "\n",
    "__I(d) Integration__ - uses differencing of observations (subtracting an observation from an observation at the previous time step) in order to make the time series stationary. Differencing involves the subtraction of the current values of a series with its previous values d number of times.\n",
    "\n",
    "\n",
    "__MA(q) Moving Average__ - a model that uses the dependency between an observation and a residual error from a moving average model applied to lagged observations. A moving average component depicts the error of the model as a combination of previous error terms. The order q represents the number of terms to be included in the model"
   ]
  },
  {
   "cell_type": "code",
   "execution_count": null,
   "id": "4b735670",
   "metadata": {},
   "outputs": [],
   "source": []
  }
 ],
 "metadata": {
  "kernelspec": {
   "display_name": "Python 3 (ipykernel)",
   "language": "python",
   "name": "python3"
  },
  "language_info": {
   "codemirror_mode": {
    "name": "ipython",
    "version": 3
   },
   "file_extension": ".py",
   "mimetype": "text/x-python",
   "name": "python",
   "nbconvert_exporter": "python",
   "pygments_lexer": "ipython3",
   "version": "3.10.6"
  },
  "toc": {
   "base_numbering": 1,
   "nav_menu": {},
   "number_sections": true,
   "sideBar": true,
   "skip_h1_title": false,
   "title_cell": "Table of Contents",
   "title_sidebar": "Contents",
   "toc_cell": false,
   "toc_position": {},
   "toc_section_display": true,
   "toc_window_display": false
  }
 },
 "nbformat": 4,
 "nbformat_minor": 5
}
